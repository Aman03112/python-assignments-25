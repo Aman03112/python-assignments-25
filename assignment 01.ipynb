{
 "cells": [
  {
   "cell_type": "markdown",
   "id": "dfe29dd3-8680-425a-b30f-af8e4d91b99f",
   "metadata": {},
   "source": [
    "#--------------------------------- Assignment---------------------------------"
   ]
  },
  {
   "cell_type": "markdown",
   "id": "fbfb8d01-3066-4b7a-95e2-10c8b138e7c9",
   "metadata": {},
   "source": [
    "# 1. Write a Python program to print &quotHello Python&quot?"
   ]
  },
  {
   "cell_type": "code",
   "execution_count": 4,
   "id": "8016e080-4498-4397-921a-7e1534c45ee3",
   "metadata": {
    "scrolled": true
   },
   "outputs": [
    {
     "name": "stdout",
     "output_type": "stream",
     "text": [
      "hello world\n"
     ]
    }
   ],
   "source": [
    "print(\"hello world\")"
   ]
  },
  {
   "cell_type": "markdown",
   "id": "dbf3ddb2-cc58-418c-8941-cad00e47c270",
   "metadata": {},
   "source": [
    "2. Write a Python program to do arithmetical operations addition and division.?"
   ]
  },
  {
   "cell_type": "code",
   "execution_count": 7,
   "id": "74a4b57a-fe42-422d-8e47-10791c10e4f2",
   "metadata": {},
   "outputs": [
    {
     "name": "stdout",
     "output_type": "stream",
     "text": [
      "addition is : 40\n",
      "division is : 1.0\n"
     ]
    }
   ],
   "source": [
    "number1 = 20\n",
    "number2 = 20\n",
    "toal = number1 + number2\n",
    "division = number1/number2\n",
    "print(\"addition is :\",toal)\n",
    "print(\"division is :\",division)"
   ]
  },
  {
   "cell_type": "markdown",
   "id": "fddcfe41-4c8e-4731-b5a4-0c80817a4c1a",
   "metadata": {},
   "source": [
    "3. Write a Python program to find the area of a triangle?"
   ]
  },
  {
   "cell_type": "code",
   "execution_count": 13,
   "id": "db9fd522-cd27-4ab1-8cd9-0715b7ba8818",
   "metadata": {},
   "outputs": [
    {
     "name": "stdin",
     "output_type": "stream",
     "text": [
      "enter the value of base : 5\n",
      "enter the value of height 7\n"
     ]
    },
    {
     "name": "stdout",
     "output_type": "stream",
     "text": [
      "Area of triangle is 17.5\n"
     ]
    }
   ],
   "source": [
    "# area of trfiangle \n",
    "# 1/2*base*height\n",
    "base = int(input(\"enter the value of base :\"))\n",
    "height = int(input(\"enter the value of height\"))\n",
    "area = 1/2*(base)*height\n",
    "print(\"Area of triangle is\",area)"
   ]
  },
  {
   "cell_type": "markdown",
   "id": "3e760a44-b20e-4e94-80d4-83c915523e79",
   "metadata": {},
   "source": [
    "4. Write a Python program to swap two variables?"
   ]
  },
  {
   "cell_type": "code",
   "execution_count": 20,
   "id": "6eaa188f-c4dc-4003-977d-a4874c28ac97",
   "metadata": {},
   "outputs": [
    {
     "name": "stdout",
     "output_type": "stream",
     "text": [
      "first variable value 2\n",
      "second variable valua 1\n"
     ]
    }
   ],
   "source": [
    "# esa program ki value swap ho jati hai\n",
    "first_variable = 1\n",
    "second_variable = 2\n",
    "first_variable,second_variable=second_variable,first_variable\n",
    "print(\"first variable value\",first_variable)\n",
    "print(\"second variable valua\",second_variable)"
   ]
  },
  {
   "cell_type": "markdown",
   "id": "ac672471-ec81-47c3-ad04-56be1ebe3fdb",
   "metadata": {},
   "source": [
    "5. Write a Python program to generate a random number?"
   ]
  },
  {
   "cell_type": "code",
   "execution_count": 50,
   "id": "0ec7daa3-90bc-4d12-a6be-efc147c6ada0",
   "metadata": {},
   "outputs": [
    {
     "name": "stdout",
     "output_type": "stream",
     "text": [
      "0.045178463179940676\n",
      "3074\n",
      "97\n"
     ]
    }
   ],
   "source": [
    "# jitna bhi hamar otp generate hoimta hai wo random sa hota hai\n",
    "import random\n",
    "# 0 sa 1 ka bech ma agar koi bhi number cchaeya to wo random dega \n",
    "print(random.random())\n",
    "# randint ya otp generate karna ka leya use hota ahi\n",
    "print(random.randint(1000,8979))\n",
    "# esma agar koi bhi integer chaeya to hama satrt stop or end dena hoga\n",
    "print(random.randrange(3,100,1))\n"
   ]
  },
  {
   "cell_type": "code",
   "execution_count": null,
   "id": "595367ba-1a3a-4a03-8486-9fa610690d21",
   "metadata": {},
   "outputs": [],
   "source": []
  },
  {
   "cell_type": "code",
   "execution_count": null,
   "id": "27ed2e37-b10e-4050-885d-de8e51c487dc",
   "metadata": {},
   "outputs": [],
   "source": []
  }
 ],
 "metadata": {
  "kernelspec": {
   "display_name": "Python 3 (ipykernel)",
   "language": "python",
   "name": "python3"
  },
  "language_info": {
   "codemirror_mode": {
    "name": "ipython",
    "version": 3
   },
   "file_extension": ".py",
   "mimetype": "text/x-python",
   "name": "python",
   "nbconvert_exporter": "python",
   "pygments_lexer": "ipython3",
   "version": "3.12.7"
  }
 },
 "nbformat": 4,
 "nbformat_minor": 5
}
